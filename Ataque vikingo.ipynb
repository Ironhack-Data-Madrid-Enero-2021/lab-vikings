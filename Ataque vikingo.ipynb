{
 "cells": [
  {
   "cell_type": "code",
   "execution_count": 2,
   "metadata": {},
   "outputs": [
    {
     "name": "stdout",
     "output_type": "stream",
     "text": [
      "Viking forces (S, H): \n",
      "Olaf 9 5\n",
      "Vicky 1 2\n",
      "Ragnar 10 6\n",
      "Harald 10 3\n",
      "Sigurd 10 8\n",
      "How many saxons are defending the castle? 2\n",
      "Saxon forces (S, H): \n",
      "Saxon1  3 4\n",
      "Saxon2  3 1\n",
      "------------------------------------------------------------\n",
      "A castle in the coast of Essex, during a cold winter night...\n",
      "Odin Owns You All!\n",
      "------------------------------------------------------------\n",
      "Turn 1\n",
      "A Saxon has died in combat\n",
      "Ragnar has received 1 points of damage\n",
      "Vikings and Saxons are still in the thick of battle.\n",
      "------------------------------------------------------------\n",
      "Turn 2\n",
      "A Saxon has died in combat\n",
      "Vikings have won the war of the century!\n",
      "------------------------------------------------------------\n"
     ]
    }
   ],
   "source": [
    "from vikingsClasses import War\n",
    "from vikingsClasses import Viking\n",
    "from vikingsClasses import Saxon\n",
    "from vikingsClasses import Soldier\n",
    "\n",
    "\n",
    "import random\n",
    "\n",
    "names_list=['Olaf', 'Vicky', 'Ragnar', 'Harald', 'Sigurd']\n",
    "vikingraid=War()\n",
    "print('Viking forces (S, H): ')\n",
    "for n in names_list:\n",
    "    vikingraid.addViking(Viking(n, random.randint(1,10), random.randint(1,10)))\n",
    "    print(vikingraid.vikingArmy[-1].name, vikingraid.vikingArmy[-1].health, vikingraid.vikingArmy[-1].strength)\n",
    "saxon_army_size=int(input('How many saxons are defending the castle? '))\n",
    "print('Saxon forces (S, H): ')\n",
    "for i in range(saxon_army_size):\n",
    "    vikingraid.addSaxon(Saxon(random.randint(1,5), random.randint(1,5)))\n",
    "    print(f\"Saxon{i+1} \", vikingraid.saxonArmy[-1].health, vikingraid.saxonArmy[-1].strength)\n",
    "\n",
    "print(\"-\"*60)\n",
    "print(\"A castle in the coast of Essex, during a cold winter night...\")\n",
    "print(vikingraid.vikingArmy[0].battleCry())\n",
    "fight=True\n",
    "print(\"-\"*60)\n",
    "turn=1\n",
    "while fight:\n",
    "    print(f\"Turn {turn}\")\n",
    "    turn+=1\n",
    "    if (len(vikingraid.vikingArmy) != 0) and (len(vikingraid.saxonArmy) != 0):\n",
    "        print(vikingraid.vikingAttack())\n",
    "    if (len(vikingraid.vikingArmy) != 0) and (len(vikingraid.saxonArmy) != 0):\n",
    "        print(vikingraid.saxonAttack())\n",
    "    print(vikingraid.showStatus())\n",
    "    if (len(vikingraid.saxonArmy) == 0) or (len(vikingraid.vikingArmy) == 0):\n",
    "        fight=False\n",
    "    print(\"-\"*60)\n",
    "    "
   ]
  },
  {
   "cell_type": "code",
   "execution_count": null,
   "metadata": {},
   "outputs": [],
   "source": []
  }
 ],
 "metadata": {
  "kernelspec": {
   "display_name": "Python 3",
   "language": "python",
   "name": "python3"
  },
  "language_info": {
   "codemirror_mode": {
    "name": "ipython",
    "version": 3
   },
   "file_extension": ".py",
   "mimetype": "text/x-python",
   "name": "python",
   "nbconvert_exporter": "python",
   "pygments_lexer": "ipython3",
   "version": "3.8.5"
  }
 },
 "nbformat": 4,
 "nbformat_minor": 4
}
